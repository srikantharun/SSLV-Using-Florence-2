{
 "cells": [
  {
   "cell_type": "markdown",
   "metadata": {},
   "source": [
    "GPU Memory Requirements around 15GB with full precision"
   ]
  },
  {
   "cell_type": "markdown",
   "metadata": {},
   "source": [
    "**Installing Dependencies**\n",
    "\n",
    "First, clone this repository to your local machine, and install the dependencies (torch, torchvision, numpy, Pillow, and huggingface_hub)."
   ]
  },
  {
   "cell_type": "code",
   "execution_count": null,
   "metadata": {},
   "outputs": [],
   "source": [
    "!git clone git@github.com:facebookresearch/vggt.git \n",
    "cd vggt\n",
    "!pip install -r requirements.txt\n",
    "!pip install -r requirements_demo.txt"
   ]
  },
  {
   "cell_type": "markdown",
   "metadata": {},
   "source": [
    "To infer via gradio demo, simply run"
   ]
  },
  {
   "cell_type": "code",
   "execution_count": null,
   "metadata": {},
   "outputs": [],
   "source": [
    "!python demo_gradio.py"
   ]
  },
  {
   "cell_type": "markdown",
   "metadata": {},
   "source": [
    "Load Model"
   ]
  },
  {
   "cell_type": "code",
   "execution_count": null,
   "metadata": {},
   "outputs": [],
   "source": [
    "import torch\n",
    "from vggt.models.vggt import VGGT\n",
    "from vggt.utils.load_fn import load_and_preprocess_images\n",
    " \n",
    "device = \"cuda\" if torch.cuda.is_available() else \"cpu\"\n",
    "# bfloat16 is supported on Ampere GPUs (Compute Capability 8.0+) \n",
    "dtype = torch.bfloat16 if torch.cuda.get_device_capability()[0] >= 8 else torch.float16\n",
    " \n",
    "# Initialize the model and load the pretrained weights.\n",
    "# This will automatically download the model weights the first time it's run, which may take a while.\n",
    "model = VGGT.from_pretrained(\"facebook/VGGT-1B\").to(device)\n",
    " \n",
    "# (OR)\n",
    "#model = VGGT()\n",
    "#_URL = \"https://huggingface.co/facebook/VGGT-1B/resolve/main/model.pt\"\n",
    "#model.load_state_dict(torch.hub.load_state_dict_from_url(_URL))"
   ]
  },
  {
   "cell_type": "code",
   "execution_count": null,
   "metadata": {},
   "outputs": [],
   "source": [
    "# Load and preprocess example images (replace with your own image paths)\n",
    "image_names = [\"path/to/imageA.png\", \"path/to/imageB.png\", \"path/to/imageC.png\"]  \n",
    "images = load_and_preprocess_images(image_names).to(device)\n",
    "\n",
    "# Shapes shown are with respect to three images"
   ]
  },
  {
   "cell_type": "markdown",
   "metadata": {},
   "source": [
    "You can also optionally choose which attributes (branches) to predict, as shown below. This achieves the same result as the example above. This example uses a batch size of 1 (processing a single scene), but it naturally works for multiple scenes."
   ]
  },
  {
   "cell_type": "code",
   "execution_count": null,
   "metadata": {},
   "outputs": [],
   "source": [
    "from vggt.utils.pose_enc import pose_encoding_to_extri_intri\n",
    "from vggt.utils.geometry import unproject_depth_map_to_point_map\n",
    "\n",
    "with torch.no_grad():\n",
    "    with torch.cuda.amp.autocast(dtype=dtype):\n",
    "        images = images[None]  # add batch dimension\n",
    "        aggregated_tokens_list, ps_idx = model.aggregator(images)\n",
    "        \n",
    "    # Predict Cameras\n",
    "    pose_enc = model.camera_head(aggregated_tokens_list)[-1]\n",
    "    # pose_enc.shape --> (1, len(images), 9) --> (1, 3, 9)\n",
    "    \n",
    "    \n",
    "    # Extrinsic and intrinsic matrices, following OpenCV convention (camera from world)\n",
    "    extrinsic, intrinsic = pose_encoding_to_extri_intri(pose_enc, images.shape[-2:])\n",
    "    \n",
    "    # enstrinsic.shape --> (1, 3, 3, 4)\n",
    "    # intrinsic.shape --> (1, 3, 3, 3)\n",
    "\n",
    "    # Predict Depth Maps\n",
    "    depth_map, depth_conf = model.depth_head(aggregated_tokens_list, images, ps_idx)\n",
    "    \n",
    "    # depth_map.shape --> (1, 3, 294, 518, 1)\n",
    "    # depth_map.conf --> (1, 3, 394, 518)\n",
    "\n",
    "    # Predict Point Maps\n",
    "    point_map, point_conf = model.point_head(aggregated_tokens_list, images, ps_idx)\n",
    "    \n",
    "    # point_map.shape --> (1, 3, 294, 518, 1)\n",
    "    # point_conf.conf --> (1, 3, 394, 518)\n",
    "        \n",
    "    # Construct 3D Points from Depth Maps and Cameras\n",
    "    # which usually leads to more accurate 3D points than point map branch\n",
    "    point_map_by_unprojection = unproject_depth_map_to_point_map(depth_map.squeeze(0), \n",
    "                                                                extrinsic.squeeze(0), \n",
    "                                                                intrinsic.squeeze(0))\n",
    "\n",
    "    # Predict Tracks\n",
    "    # choose your own points to track, with shape (N, 2) for one scene\n",
    "    query_points = torch.FloatTensor([[100.0, 200.0], \n",
    "                                        [60.72, 259.94]]).to(device)\n",
    "    track_list, vis_score, conf_score = model.track_head(aggregated_tokens_list, images, ps_idx, query_points=query_points[None])\n",
    "    \n",
    "    # len(track_list) = 4\n",
    "    # vis_score.shape --> (1, 3, 2)\n",
    "    # conf_score.shape --> (1, 3, 2)\n",
    "        \n",
    "        "
   ]
  },
  {
   "cell_type": "markdown",
   "metadata": {},
   "source": [
    "Tracklets Visualization"
   ]
  },
  {
   "cell_type": "code",
   "execution_count": null,
   "metadata": {},
   "outputs": [],
   "source": [
    "from vggt.utils.visual_track import visualize_tracks_on_images\n",
    "track = track_list[-1]\n",
    "visualize_tracks_on_images(images, track, (conf_score>0.2) & (vis_score>0.2), out_dir=\"track_visuals\")"
   ]
  }
 ],
 "metadata": {
  "language_info": {
   "name": "python"
  }
 },
 "nbformat": 4,
 "nbformat_minor": 2
}
